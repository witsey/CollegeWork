{
 "cells": [
  {
   "cell_type": "code",
   "execution_count": 4,
   "id": "51f25fec-1080-4418-9f15-ad2ab087206a",
   "metadata": {},
   "outputs": [],
   "source": [
    "import sympy as sp\n",
    "from sympy import *"
   ]
  },
  {
   "cell_type": "code",
   "execution_count": 7,
   "id": "1570653b-a8b0-4ea2-963e-d796b4c3ad55",
   "metadata": {},
   "outputs": [],
   "source": [
    "x = sp.Symbol('x')"
   ]
  },
  {
   "cell_type": "code",
   "execution_count": 18,
   "id": "0cc88a24-9a31-4470-a100-7bb3aa48196e",
   "metadata": {},
   "outputs": [],
   "source": [
    "myE = sp.Eq(x + 7,8)"
   ]
  },
  {
   "cell_type": "code",
   "execution_count": 8,
   "id": "5b4a0020-48f6-4250-afc1-1c81fa67e6ec",
   "metadata": {},
   "outputs": [],
   "source": [
    "f = x**3"
   ]
  },
  {
   "cell_type": "code",
   "execution_count": 9,
   "id": "6ace8c73-47b6-4068-a7d1-e7d69ded97b3",
   "metadata": {
    "scrolled": true
   },
   "outputs": [],
   "source": [
    "derivative = sp.diff(f, x)"
   ]
  },
  {
   "cell_type": "code",
   "execution_count": 10,
   "id": "fe03800a-969f-4232-b69b-d6a08d09e7d5",
   "metadata": {
    "scrolled": true
   },
   "outputs": [
    {
     "data": {
      "text/latex": [
       "$\\displaystyle 3 x^{2}$"
      ],
      "text/plain": [
       "3*x**2"
      ]
     },
     "execution_count": 10,
     "metadata": {},
     "output_type": "execute_result"
    }
   ],
   "source": [
    "derivative"
   ]
  },
  {
   "cell_type": "code",
   "execution_count": 12,
   "id": "7b74733c-ed02-42d8-9634-38afefb7ad8f",
   "metadata": {},
   "outputs": [
    {
     "data": {
      "text/latex": [
       "$\\displaystyle x^{3}$"
      ],
      "text/plain": [
       "x**3"
      ]
     },
     "execution_count": 12,
     "metadata": {},
     "output_type": "execute_result"
    }
   ],
   "source": [
    "integrate(derivative)"
   ]
  },
  {
   "cell_type": "code",
   "execution_count": 19,
   "id": "9d942574-968c-4eec-8ff1-62477abec06a",
   "metadata": {},
   "outputs": [
    {
     "data": {
      "text/plain": [
       "[1]"
      ]
     },
     "execution_count": 19,
     "metadata": {},
     "output_type": "execute_result"
    }
   ],
   "source": [
    "sp.solve(myE)"
   ]
  },
  {
   "cell_type": "code",
   "execution_count": null,
   "id": "88cdf92b-10aa-4f53-b90b-62d45d426a6f",
   "metadata": {},
   "outputs": [],
   "source": []
  }
 ],
 "metadata": {
  "kernelspec": {
   "display_name": "Python 3 (ipykernel)",
   "language": "python",
   "name": "python3"
  },
  "language_info": {
   "codemirror_mode": {
    "name": "ipython",
    "version": 3
   },
   "file_extension": ".py",
   "mimetype": "text/x-python",
   "name": "python",
   "nbconvert_exporter": "python",
   "pygments_lexer": "ipython3",
   "version": "3.12.3"
  }
 },
 "nbformat": 4,
 "nbformat_minor": 5
}
